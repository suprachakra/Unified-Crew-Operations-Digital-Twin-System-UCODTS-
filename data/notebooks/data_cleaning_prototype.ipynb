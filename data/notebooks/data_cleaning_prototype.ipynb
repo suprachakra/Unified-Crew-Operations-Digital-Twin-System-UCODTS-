{
 "cells": [
  {
   "cell_type": "markdown",
   "metadata": {},
   "source": [
    "# Data Cleaning Prototype\n",
    "\n",
    "This notebook demonstrates the data cleaning process for raw datasets, including handling missing values, duplicates, and converting data types.\n",
    "\n",
    "## Steps:\n",
    "- Load raw crew data.\n",
    "- Convert numerical fields and handle missing values.\n",
    "- Remove duplicate rows and output a cleaned file."
   ]
  },
  {
   "cell_type": "code",
   "execution_count": 1,
   "metadata": {},
   "outputs": [],
   "source": [
    "import pandas as pd\n",
    "\n",
    "# Load raw crew data\n",
    "raw_df = pd.read_csv('../datasets/raw/crew_data.csv')\n",
    "print('Raw data shape:', raw_df.shape)\n",
    "raw_df.head()"
   ]
  },
  {
   "cell_type": "code",
   "execution_count": 2,
   "metadata": {},
   "outputs": [],
   "source": [
    "# Convert fatigue_score to numeric and drop rows with missing values\n",
    "raw_df['fatigue_score'] = pd.to_numeric(raw_df['fatigue_score'], errors='coerce')\n",
    "clean_df = raw_df.dropna()\n",
    "clean_df = clean_df.drop_duplicates()\n",
    "print('Cleaned data shape:', clean_df.shape)\n",
    "\n",
    "# Save cleaned data\n",
    "clean_df.to_csv('../datasets/processed/crew_data_processed.csv', index=False)\n",
    "print('Cleaned data saved.')"
   ]
  }
 ],
 "metadata": {
  "kernelspec": {
   "display_name": "Python 3",
   "language": "python",
   "name": "python3"
  },
  "language_info": {
   "name": "python",
   "version": "3.x"
  }
 },
 "nbformat": 4,
 "nbformat_minor": 2
}
