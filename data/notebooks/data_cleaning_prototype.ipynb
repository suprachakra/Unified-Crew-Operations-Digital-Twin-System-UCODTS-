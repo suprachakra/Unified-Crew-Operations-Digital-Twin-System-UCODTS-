{
 "cells": [
  {
   "cell_type": "markdown",
   "metadata": {},
   "source": [
    "# Data Cleaning Prototype\n",
    "\n",
    "This notebook demonstrates robust data cleaning operations on the raw UCODTS datasets. We focus on handling missing values, converting data types, and removing duplicates to prepare the data for further analysis and modeling.\n",
    "\n",
    "**Objectives:**\n",
    "- Ensure data integrity by addressing missing or invalid values.\n",
    "- Convert date and numeric fields appropriately.\n",
    "- Generate a clean version of the raw crew data for downstream processing."
   ]
  },
  {
   "cell_type": "code",
   "execution_count": 1,
   "metadata": {},
   "outputs": [],
   "source": [
    "import pandas as pd\n",
    "import numpy as np\n",
    "\n",
    "# Load raw crew data\n",
    "raw_file = '../datasets/raw/crew_data.csv'\n",
    "df = pd.read_csv(raw_file)\n",
    "print('Initial data shape:', df.shape)\n",
    "\n",
    "# Display first few rows\n",
    "df.head()"
   ]
  },
  {
   "cell_type": "code",
   "execution_count": 2,
   "metadata": {},
   "outputs": [],
   "source": [
    "# Convert fatigue_score to numeric and handle errors\n",
    "df['fatigue_score'] = pd.to_numeric(df['fatigue_score'], errors='coerce')\n",
    "\n",
    "# Drop rows with missing values after conversion\n",
    "df_clean = df.dropna()\n",
    "print('Data shape after cleaning:', df_clean.shape)\n",
    "\n",
    "# Remove duplicates\n",
    "df_clean = df_clean.drop_duplicates()\n",
    "print('Data shape after removing duplicates:', df_clean.shape)"
   ]
  },
  {
   "cell_type": "code",
   "execution_count": 3,
   "metadata": {},
   "outputs": [],
   "source": [
    "# Save the cleaned data to the processed directory\n",
    "output_file = '../datasets/processed/crew_data_processed.csv'\n",
    "df_clean.to_csv(output_file, index=False)\n",
    "print('Data cleaning complete. Clean file saved to:', output_file)"
   ]
  },
  {
   "cell_type": "markdown",
   "metadata": {},
   "source": [
    "## Conclusion\n",
    "\n",
    "The data cleaning process has been successfully completed. The cleaned dataset is now free of missing or duplicate entries and has the correct data types, making it ready for feature engineering and model development."
   ]
  }
 ],
 "metadata": {
  "kernelspec": {
   "display_name": "Python 3",
   "language": "python",
   "name": "python3"
  },
  "language_info": {
   "name": "python",
   "version": "3.x"
  }
 },
 "nbformat": 4,
 "nbformat_minor": 2
}
