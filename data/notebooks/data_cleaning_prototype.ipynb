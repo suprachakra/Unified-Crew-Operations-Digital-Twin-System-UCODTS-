{
 "cells": [
  {
   "cell_type": "markdown",
   "metadata": {},
   "source": [
    "# Data Cleaning Prototype\n",
    "This notebook demonstrates basic data cleaning operations on the UCODTS raw datasets."
   ]
  },
  {
   "cell_type": "code",
   "execution_count": null,
   "metadata": {},
   "outputs": [],
   "source": [
    "import pandas as pd\n",
    "\n",
    "# Load raw crew data\n",
    "df = pd.read_csv('../datasets/raw/crew_data.csv')\n",
    "\n",
    "# Convert fatigue_score to numeric and drop rows with missing values\n",
    "df['fatigue_score'] = pd.to_numeric(df['fatigue_score'], errors='coerce')\n",
    "df_clean = df.dropna()\n",
    "\n",
    "# Save cleaned data\n",
    "df_clean.to_csv('../datasets/processed/crew_data_processed.csv', index=False)\n",
    "print('Data cleaning complete.')"
   ]
  }
 ],
 "metadata": {
  "kernelspec": {
   "display_name": "Python 3",
   "language": "python",
   "name": "python3"
  },
  "language_info": {
   "name": "python"
  }
 },
 "nbformat": 4,
 "nbformat_minor": 2
}
