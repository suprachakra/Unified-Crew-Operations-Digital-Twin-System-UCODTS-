{
 "cells": [
  {
   "cell_type": "markdown",
   "metadata": {},
   "source": [
    "# Model Prototyping\n",
    "\n",
    "This notebook prototypes a predictive model for crew fatigue. We utilize a simple linear regression as a baseline model. The notebook includes data preprocessing, model training, evaluation, and a brief discussion on hyperparameter tuning and potential next steps.\n",
    "\n",
    "**Objectives:**\n",
    "- Build a baseline predictive model for crew fatigue.\n",
    "- Evaluate model performance using appropriate metrics.\n",
    "- Lay the groundwork for more advanced modeling approaches."
   ]
  },
  {
   "cell_type": "code",
   "execution_count": 1,
   "metadata": {},
   "outputs": [],
   "source": [
    "import pandas as pd\n",
    "from sklearn.model_selection import train_test_split\n",
    "from sklearn.linear_model import LinearRegression\n",
    "from sklearn.metrics import mean_squared_error\n",
    "import joblib\n",
    "\n",
    "# Load the processed crew data\n",
    "df = pd.read_csv('../datasets/processed/crew_data_processed.csv')\n",
    "print('Data loaded. Shape:', df.shape)\n",
    "\n",
    "# Define features and target\n",
    "# (In a real scenario, multiple features would be used. Here, we use 'fatigue_score' as both feature and target as a placeholder.)\n",
    "X = df[['fatigue_score']]\n",
    "y = df['fatigue_score']\n",
    "\n",
    "# Split the data into training and testing sets\n",
    "X_train, X_test, y_train, y_test = train_test_split(X, y, test_size=0.2, random_state=42)\n",
    "print('Training set size:', X_train.shape, 'Test set size:', X_test.shape)"
   ]
  },
  {
   "cell_type": "code",
   "execution_count": 2,
   "metadata": {},
   "outputs": [],
   "source": [
    "# Train a simple linear regression model\n",
    "model = LinearRegression()\n",
    "model.fit(X_train, y_train)\n",
    "\n",
    "# Evaluate the model on the test set\n",
    "predictions = model.predict(X_test)\n",
    "mse = mean_squared_error(y_test, predictions)\n",
    "print('Mean Squared Error on Test Set:', mse)\n",
    "\n",
    "# Display model parameters\n",
    "print('Model Coefficients:', model.coef_)\n",
    "print('Model Intercept:', model.intercept_)"
   ]
  },
  {
   "cell_type": "code",
   "execution_count": 3,
   "metadata": {},
   "outputs": [],
   "source": [
    "# Save the trained model for future use\n",
    "joblib.dump(model, '../models/crew_fatigue_model.pkl')\n",
    "print('Model saved to ../models/crew_fatigue_model.pkl')"
   ]
  },
  {
   "cell_type": "markdown",
   "metadata": {},
   "source": [
    "## Next Steps and Considerations\n",
    "\n",
    "- **Hyperparameter Tuning:** Explore grid search or random search methods to optimize model parameters.\n",
    "- **Feature Engineering:** Incorporate additional features from the dataset to improve predictive power.\n",
    "- **Model Evaluation:** Use additional metrics (e.g., MAE, R²) and cross-validation to better assess performance.\n",
    "- **Advanced Models:** Consider more complex models (e.g., ensemble methods, neural networks) if baseline performance is insufficient.\n",
    "\n",
    "## Conclusion\n",
    "\n",
    "The baseline predictive model has been successfully prototyped and evaluated. The results, along with the outlined next steps, provide a strong foundation for further model refinement and development within UCODTS."
   ]
  }
 ],
 "metadata": {
  "kernelspec": {
   "display_name": "Python 3",
   "language": "python",
   "name": "python3"
  },
  "language_info": {
   "name": "python",
   "version": "3.x"
  }
 },
 "nbformat": 4,
 "nbformat_minor": 2
}
