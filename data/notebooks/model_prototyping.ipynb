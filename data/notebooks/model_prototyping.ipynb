{
 "cells": [
  {
   "cell_type": "markdown",
   "metadata": {},
   "source": [
    "# Model Prototyping Notebook\n",
    "\n",
    "This notebook prototypes a baseline machine learning model for crew fatigue prediction. It includes data loading, model training, evaluation, and saving the model.\n",
    "\n",
    "## Steps:\n",
    "- Load processed crew data.\n",
    "- Split data into training and testing sets.\n",
    "- Train a simple linear regression model.\n",
    "- Evaluate the model using Mean Squared Error (MSE).\n",
    "- Save the trained model for future inference."
   ]
  },
  {
   "cell_type": "code",
   "execution_count": 1,
   "metadata": {},
   "outputs": [],
   "source": [
    "import pandas as pd\n",
    "from sklearn.model_selection import train_test_split\n",
    "from sklearn.linear_model import LinearRegression\n",
    "from sklearn.metrics import mean_squared_error\n",
    "import joblib\n",
    "\n",
    "# Load processed data\n",
    "data = pd.read_csv('../datasets/processed/crew_data_processed.csv')\n",
    "print('Data loaded:', data.shape)\n",
    "\n",
    "# For demonstration, use fatigue_score as both feature and target\n",
    "X = data[['fatigue_score']]\n",
    "y = data['fatigue_score']\n",
    "\n",
    "# Split data\n",
    "X_train, X_test, y_train, y_test = train_test_split(X, y, test_size=0.2, random_state=42)\n",
    "print('Training set:', X_train.shape, '| Test set:', X_test.shape)"
   ]
  },
  {
   "cell_type": "code",
   "execution_count": 2,
   "metadata": {},
   "outputs": [],
   "source": [
    "# Train linear regression model\n",
    "model = LinearRegression()\n",
    "model.fit(X_train, y_train)\n",
    "\n",
    "# Evaluate the model\n",
    "predictions = model.predict(X_test)\n",
    "mse = mean_squared_error(y_test, predictions)\n",
    "print('Mean Squared Error:', mse)"
   ]
  },
  {
   "cell_type": "code",
   "execution_count": 3,
   "metadata": {},
   "outputs": [],
   "source": [
    "# Save the trained model\n",
    "joblib.dump(model, '../models/crew_fatigue_model.pkl')\n",
    "print('Model saved as crew_fatigue_model.pkl')"
   ]
  }
 ],
 "metadata": {
  "kernelspec": {
   "display_name": "Python 3",
   "language": "python",
   "name": "python3"
  },
  "language_info": {
   "name": "python",
   "version": "3.x"
  }
 },
 "nbformat": 4,
 "nbformat_minor": 2
}
