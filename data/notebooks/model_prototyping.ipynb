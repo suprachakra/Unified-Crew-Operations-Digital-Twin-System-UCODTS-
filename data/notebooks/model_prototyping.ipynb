{
 "cells": [
  {
   "cell_type": "markdown",
   "metadata": {},
   "source": [
    "# Model Prototyping\n",
    "This notebook is used to prototype an ML model using the processed flight data."
   ]
  },
  {
   "cell_type": "code",
   "execution_count": null,
   "metadata": {},
   "outputs": [],
   "source": [
    "import pandas as pd\n",
    "from sklearn.linear_model import LinearRegression\n",
    "\n",
    "# Load processed flight data\n",
    "df = pd.read_csv('../datasets/processed/flight_data_processed.csv')\n",
    "\n",
    "# Convert scheduled_departure to timestamp\n",
    "df['scheduled_departure_ts'] = pd.to_datetime(df['scheduled_departure']).astype(int) / 10**9\n",
    "X = df[['scheduled_departure_ts']]\n",
    "y = df['delay_minutes']\n",
    "\n",
    "model = LinearRegression()\n",
    "model.fit(X, y)\n",
    "print('Model prototyping complete. Coefficient:', model.coef_)\n",
    "\n",
    "# Note: Save the model using the ML pipeline script"
   ]
  }
 ],
 "metadata": {
  "kernelspec": {
   "display_name": "Python 3",
   "language": "python",
   "name": "python3"
  },
  "language_info": {
   "name": "python"
  }
 },
 "nbformat": 4,
 "nbformat_minor": 2
}
