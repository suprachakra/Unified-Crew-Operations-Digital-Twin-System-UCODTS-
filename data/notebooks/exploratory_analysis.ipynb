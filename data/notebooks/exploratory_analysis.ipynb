{
 "cells": [
  {
   "cell_type": "markdown",
   "metadata": {},
   "source": [
    "# Exploratory Data Analysis\n",
    "\n",
    "This notebook provides an in-depth overview of the UCODTS datasets. It includes descriptive statistics, data visualizations, and correlation analysis to identify key trends, data quality issues, and potential areas for further investigation. \n",
    "\n",
    "**Objectives:**\n",
    "- Understand the distribution of key metrics (e.g., fatigue scores).\n",
    "- Identify missing values and outliers.\n",
    "- Explore relationships between variables to inform feature engineering."
   ]
  },
  {
   "cell_type": "code",
   "execution_count": 1,
   "metadata": {},
   "outputs": [],
   "source": [
    "import pandas as pd\n",
    "import matplotlib.pyplot as plt\n",
    "import seaborn as sns\n",
    "\n",
    "# Load processed crew data\n",
    "crew_df = pd.read_csv('../datasets/processed/crew_data_processed.csv')\n",
    "print('Descriptive statistics for crew data:')\n",
    "print(crew_df.describe())\n",
    "\n",
    "# Check for missing values\n",
    "print('\\nMissing values in crew data:')\n",
    "print(crew_df.isnull().sum())"
   ]
  },
  {
   "cell_type": "code",
   "execution_count": 2,
   "metadata": {},
   "outputs": [],
   "source": [
    "# Plot histogram of fatigue scores\n",
    "plt.figure(figsize=(8, 5))\n",
    "sns.histplot(crew_df['fatigue_score'], bins=10, kde=True)\n",
    "plt.title('Fatigue Score Distribution')\n",
    "plt.xlabel('Fatigue Score')\n",
    "plt.ylabel('Frequency')\n",
    "plt.show()"
   ]
  },
  {
   "cell_type": "code",
   "execution_count": 3,
   "metadata": {},
   "outputs": [],
   "source": [
    "# Correlation matrix to explore relationships between numeric features\n",
    "plt.figure(figsize=(10, 8))\n",
    "corr = crew_df.corr()\n",
    "sns.heatmap(corr, annot=True, cmap='coolwarm', fmt='.2f')\n",
    "plt.title('Correlation Matrix for Crew Data')\n",
    "plt.show()"
   ]
  },
  {
   "cell_type": "markdown",
   "metadata": {},
   "source": [
    "## Conclusion\n",
    "\n",
    "The exploratory analysis reveals the overall distribution of fatigue scores and highlights key relationships between variables. This insight will guide further data cleaning, feature engineering, and model development for predicting crew fatigue and other operational metrics."
   ]
  }
 ],
 "metadata": {
  "kernelspec": {
   "display_name": "Python 3",
   "language": "python",
   "name": "python3"
  },
  "language_info": {
   "name": "python",
   "version": "3.x"
  }
 },
 "nbformat": 4,
 "nbformat_minor": 2
}
