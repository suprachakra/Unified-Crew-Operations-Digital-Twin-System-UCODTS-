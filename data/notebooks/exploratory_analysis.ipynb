{
 "cells": [
  {
   "cell_type": "markdown",
   "metadata": {},
   "source": [
    "# Exploratory Data Analysis\n",
    "This notebook provides an overview of the UCODTS datasets and includes basic statistical analysis and visualizations."
   ]
  },
  {
   "cell_type": "code",
   "execution_count": null,
   "metadata": {},
   "outputs": [],
   "source": [
    "import pandas as pd\n",
    "import matplotlib.pyplot as plt\n",
    "\n",
    "# Load processed crew data\n",
    "crew_df = pd.read_csv('../datasets/processed/crew_data_processed.csv')\n",
    "print(crew_df.describe())\n",
    "\n",
    "# Plot fatigue scores\n",
    "crew_df['average_fatigue_score'].plot(kind='hist', bins=10, title='Fatigue Score Distribution')\n",
    "plt.show()"
   ]
  }
 ],
 "metadata": {
  "kernelspec": {
   "display_name": "Python 3",
   "language": "python",
   "name": "python3"
  },
  "language_info": {
   "name": "python"
  }
 },
 "nbformat": 4,
 "nbformat_minor": 2
}
